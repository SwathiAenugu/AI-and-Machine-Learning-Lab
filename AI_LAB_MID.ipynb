{
  "nbformat": 4,
  "nbformat_minor": 0,
  "metadata": {
    "colab": {
      "name": "AI_LAB_MID.ipynb",
      "provenance": [],
      "collapsed_sections": [],
      "authorship_tag": "ABX9TyPUzNtizkvPDzjYd0fw2bC8",
      "include_colab_link": true
    },
    "kernelspec": {
      "name": "python3",
      "display_name": "Python 3"
    },
    "language_info": {
      "name": "python"
    }
  },
  "cells": [
    {
      "cell_type": "markdown",
      "metadata": {
        "id": "view-in-github",
        "colab_type": "text"
      },
      "source": [
        "<a href=\"https://colab.research.google.com/github/SwathiAenugu/AI-and-Machine-Learning-Lab/blob/main/AI_LAB_MID.ipynb\" target=\"_parent\"><img src=\"https://colab.research.google.com/assets/colab-badge.svg\" alt=\"Open In Colab\"/></a>"
      ]
    },
    {
      "cell_type": "markdown",
      "source": [
        "## Part I Write python programs by the functions in Numpy  "
      ],
      "metadata": {
        "id": "7tcE0JTkHWQp"
      }
    },
    {
      "cell_type": "markdown",
      "source": [
        "**1.\tCreate 3x3 matrix with random number elements**"
      ],
      "metadata": {
        "id": "3zv9MuR2HQ69"
      }
    },
    {
      "cell_type": "code",
      "execution_count": 73,
      "metadata": {
        "colab": {
          "base_uri": "https://localhost:8080/"
        },
        "id": "i3AceI2yHFVW",
        "outputId": "668b1785-a6d9-426d-f501-aef21078d376"
      },
      "outputs": [
        {
          "output_type": "stream",
          "name": "stdout",
          "text": [
            "[[0.51067243 0.67585399 0.50800986]\n",
            " [0.41965132 0.53993351 0.99897791]\n",
            " [0.47485647 0.21990489 0.03869179]]\n"
          ]
        }
      ],
      "source": [
        "import numpy as np\n",
        "x = np.random.random((3,3))\n",
        "print(x)"
      ]
    },
    {
      "cell_type": "markdown",
      "source": [
        "**2.\tDon’t change original array, substitute even numbers in it to -1, such as\ta = [11, 12, 13, 14]\tb = [11, -1, 13, -1]**\n"
      ],
      "metadata": {
        "id": "0v9QDEFCHqN9"
      }
    },
    {
      "cell_type": "code",
      "source": [
        "a = np.array([11, 12, 13, 14])\n",
        "b = list(map(lambda k: -1 if k%2==0 else k, a))\n",
        "print('a: ', a)\n",
        "print('b: ', b)"
      ],
      "metadata": {
        "colab": {
          "base_uri": "https://localhost:8080/"
        },
        "id": "p0gVJHvJHu1G",
        "outputId": "bf7e17c1-0af6-49f9-c2de-f3107437f0df"
      },
      "execution_count": 70,
      "outputs": [
        {
          "output_type": "stream",
          "name": "stdout",
          "text": [
            "a:  [11 12 13 14]\n",
            "b:  [11, -1, 13, -1]\n"
          ]
        }
      ]
    },
    {
      "cell_type": "markdown",
      "source": [
        "**3.\tExtract the common elements from two arrays, like a = [11,12, 13, 14] and b = [11,13, 15, 16]\tc = [11, 13]**\n"
      ],
      "metadata": {
        "id": "uRg4j5MtQIGd"
      }
    },
    {
      "cell_type": "code",
      "source": [
        "a = np.array([11, 12, 13, 14])\n",
        "b = np.array([11, 13, 15, 16])\n",
        "c = list(filter(lambda z: z in b, a))\n",
        "print('a: ',a)\n",
        "print('b: ',b)\n",
        "print('c: ',c)"
      ],
      "metadata": {
        "colab": {
          "base_uri": "https://localhost:8080/"
        },
        "id": "NEqTq_5FQN6T",
        "outputId": "844f15c4-5fec-4423-c231-3c8c7c771c6e"
      },
      "execution_count": 74,
      "outputs": [
        {
          "output_type": "stream",
          "name": "stdout",
          "text": [
            "a:  [11 12 13 14]\n",
            "b:  [11 13 15 16]\n",
            "c:  [11, 13]\n"
          ]
        }
      ]
    },
    {
      "cell_type": "markdown",
      "source": [
        "**4.\tSwap 2 rows in a 3x3 matrix**"
      ],
      "metadata": {
        "id": "8zEDk0fBPoH8"
      }
    },
    {
      "cell_type": "code",
      "source": [
        "print(x)\n",
        "x[[0, 1]] = x[[1, 0]] # here swapping 1st and 2nd rows\n",
        "x"
      ],
      "metadata": {
        "colab": {
          "base_uri": "https://localhost:8080/"
        },
        "id": "5oHhc5I5J7se",
        "outputId": "0910a57a-eeea-43ee-c0d1-44f90ea90e2b"
      },
      "execution_count": 75,
      "outputs": [
        {
          "output_type": "stream",
          "name": "stdout",
          "text": [
            "[[0.51067243 0.67585399 0.50800986]\n",
            " [0.41965132 0.53993351 0.99897791]\n",
            " [0.47485647 0.21990489 0.03869179]]\n"
          ]
        },
        {
          "output_type": "execute_result",
          "data": {
            "text/plain": [
              "array([[0.41965132, 0.53993351, 0.99897791],\n",
              "       [0.51067243, 0.67585399, 0.50800986],\n",
              "       [0.47485647, 0.21990489, 0.03869179]])"
            ]
          },
          "metadata": {},
          "execution_count": 75
        }
      ]
    },
    {
      "cell_type": "markdown",
      "source": [
        "**5.\tCalculate mean and standard deviation in an integer array**"
      ],
      "metadata": {
        "id": "NURZxWAbP1R7"
      }
    },
    {
      "cell_type": "code",
      "source": [
        "mu = np.mean(x)\n",
        "print(\"\\nMean: \", mu)\n",
        "  \n",
        "sd = np.std(x)\n",
        "print(\"\\nStandard Deviation: \", sd)"
      ],
      "metadata": {
        "colab": {
          "base_uri": "https://localhost:8080/"
        },
        "id": "2kglJCh-P27d",
        "outputId": "7c223147-7459-4477-e517-6ed28fff9caa"
      },
      "execution_count": 63,
      "outputs": [
        {
          "output_type": "stream",
          "name": "stdout",
          "text": [
            "\n",
            "Mean:  2.0\n",
            "\n",
            "Standard Deviation:  0.816496580927726\n"
          ]
        }
      ]
    },
    {
      "cell_type": "markdown",
      "source": [
        "**6.\tConvert string 'P' and 'NP' to number 0 and 1 respectively in a given 1d array, such as a = [1, 2, 3, 'P', 4, 5, 6, 'NP']\tb = [1, 2, 3, 0, 4, 5, 6, 1]**\n",
        "\n"
      ],
      "metadata": {
        "id": "OWj095J0QUM3"
      }
    },
    {
      "cell_type": "code",
      "source": [
        "a = np.array([1, 2, 3, 'P', 4, 5, 6, 'NP'])\n",
        "b = list(map(lambda w:0 if w=='P' else(1 if w=='NP' else w), a))\n",
        "print('a: ', a)\n",
        "print('b: ', b)"
      ],
      "metadata": {
        "colab": {
          "base_uri": "https://localhost:8080/"
        },
        "id": "APcHlPQeQXYL",
        "outputId": "1d563dea-77ba-4b22-990f-6873389e8dff"
      },
      "execution_count": 76,
      "outputs": [
        {
          "output_type": "stream",
          "name": "stdout",
          "text": [
            "a:  ['1' '2' '3' 'P' '4' '5' '6' 'NP']\n",
            "b:  ['1', '2', '3', 0, '4', '5', '6', 1]\n"
          ]
        }
      ]
    },
    {
      "cell_type": "markdown",
      "source": [
        "## **Part II Complete the following questions in python programs by the functions in Matplotlib**"
      ],
      "metadata": {
        "id": "r41SxLPsLKn1"
      }
    },
    {
      "cell_type": "markdown",
      "source": [
        "**7.\tPlot two lines on one figure with the legend for each**"
      ],
      "metadata": {
        "id": "hfjjT19dMBD3"
      }
    },
    {
      "cell_type": "code",
      "source": [
        "import matplotlib.pyplot as plt\n",
        "\n",
        "# points for line-1\n",
        "x1 = [10,15]\n",
        "y1 = [20,40]\n",
        "plt.plot(x1, y1, label = \"line 1\")\n",
        "\n",
        "# points for line-2\n",
        "x2 = [10,20]\n",
        "y2 = [40,10]\n",
        "plt.plot(x2, y2, label = \"line 2\")\n",
        "\n",
        "plt.xlabel('x - axis')\n",
        "plt.ylabel('y - axis')\n",
        "\n",
        "plt.title('Two lines on one figure with the legend for each ')\n",
        "plt.legend()\n",
        "plt.show()\n"
      ],
      "metadata": {
        "colab": {
          "base_uri": "https://localhost:8080/",
          "height": 295
        },
        "id": "Z2MlwghGLLFn",
        "outputId": "4403cff0-e531-447c-c708-6c450ad0adae"
      },
      "execution_count": 31,
      "outputs": [
        {
          "output_type": "display_data",
          "data": {
            "text/plain": [
              "<Figure size 432x288 with 1 Axes>"
            ],
            "image/png": "[encoded data removed]"
          },
          "metadata": {
            "needs_background": "light"
          }
        }
      ]
    },
    {
      "cell_type": "markdown",
      "source": [
        "**8.\tDraw a 2d scatter plot for samples (X1, X2, y) in different colors for y = 0 and y = 1**"
      ],
      "metadata": {
        "id": "hBaKRXC_MEyO"
      }
    },
    {
      "cell_type": "code",
      "source": [
        "import matplotlib.pyplot as plt\n",
        "import random\n",
        "\n",
        "x1=[]\n",
        "x2=[]\n",
        "y=[]\n",
        "\n",
        "for i in range(0,50):\n",
        "\tx1.append(random.randint(1,30))\n",
        "\tx2.append(random.randint(1,30))\n",
        "\ty.append(random.randint(0,1)) #  will be either0 or 1\n",
        "\n",
        "plt.scatter(x1,x2,c= y) \n",
        "plt.xlabel('x - axis')\n",
        "plt.ylabel('y - axis')\n",
        "plt.title('scatter plot')\n",
        "\n",
        "plt.show()"
      ],
      "metadata": {
        "colab": {
          "base_uri": "https://localhost:8080/",
          "height": 295
        },
        "id": "NZ1nYjSsML81",
        "outputId": "75954f1d-4955-442e-fdc7-9ea7d6c2e5ae"
      },
      "execution_count": 56,
      "outputs": [
        {
          "output_type": "display_data",
          "data": {
            "text/plain": [
              "<Figure size 432x288 with 1 Axes>"
            ],
            "image/png": "[encoded data removed]"
          },
          "metadata": {
            "needs_background": "light"
          }
        }
      ]
    },
    {
      "cell_type": "markdown",
      "source": [
        "## **Part III Create python program from Pandas modules**"
      ],
      "metadata": {
        "id": "KJRZo7NHM2vU"
      }
    },
    {
      "cell_type": "markdown",
      "source": [
        "**9.\tChange 1d array from 0 to 8 to 3x3 dataframe(matrix)**"
      ],
      "metadata": {
        "id": "czRVWrwUM6Wb"
      }
    },
    {
      "cell_type": "code",
      "source": [
        "import numpy as np\n",
        "import pandas as pd\n",
        "A = np.array([0,1,2,3,4,5,6,7,8])\n",
        "print('1-D Array:\\n',A)\n",
        "B = np.reshape(A, (-1, 3))\n",
        "numpy_data = np.array(B)\n",
        "df = pd.DataFrame(data=numpy_data, index=[\"r1\", \"r2\",\"r3\"], columns=[\"c1\", \"c2\",\"c3\"])\n",
        "print('\\n3x3 dataframe:\\n',df)\n"
      ],
      "metadata": {
        "colab": {
          "base_uri": "https://localhost:8080/"
        },
        "id": "IGil7_QzM9jY",
        "outputId": "b416dfba-0822-437f-a23d-fe335873fd7c"
      },
      "execution_count": 78,
      "outputs": [
        {
          "output_type": "stream",
          "name": "stdout",
          "text": [
            "1-D Array:\n",
            " [0 1 2 3 4 5 6 7 8]\n",
            "\n",
            "3x3 dataframe:\n",
            "     c1  c2  c3\n",
            "r1   0   1   2\n",
            "r2   3   4   5\n",
            "r3   6   7   8\n"
          ]
        }
      ]
    },
    {
      "cell_type": "markdown",
      "source": [
        "**10.\tCalculate the Euclidean distance from two 1d arrays, such as a = [1, 2, 3] and b = [4, 5, 6]**\n"
      ],
      "metadata": {
        "id": "YNC56oK4NTGN"
      }
    },
    {
      "cell_type": "code",
      "source": [
        "x = pd.Series([1, 2, 3])\n",
        "y = pd.Series([4,5,6])\n",
        "\n",
        "dist = np.sqrt(np.sum([(a-b)*(a-b) for a, b in zip(x, y)]))    \n",
        "  \n",
        "print(\"Series 1:\")\n",
        "print(x)\n",
        "  \n",
        "print(\"Series 2:\")\n",
        "print(y)\n",
        "  \n",
        "print(\"Euclidean distance between two series is:\", dist)\n"
      ],
      "metadata": {
        "colab": {
          "base_uri": "https://localhost:8080/"
        },
        "id": "Q6fT-nJ1NabH",
        "outputId": "d6340d1a-1e9b-455b-f33d-781e3cf86e0a"
      },
      "execution_count": 62,
      "outputs": [
        {
          "output_type": "stream",
          "name": "stdout",
          "text": [
            "Series 1:\n",
            "0    1\n",
            "1    2\n",
            "2    3\n",
            "dtype: int64\n",
            "Series 2:\n",
            "0    4\n",
            "1    5\n",
            "2    6\n",
            "dtype: int64\n",
            "Euclidean distance between two series is: 5.196152422706632\n"
          ]
        }
      ]
    },
    {
      "cell_type": "markdown",
      "source": [
        "**11.\tOnly import odd number rows from a csv file**"
      ],
      "metadata": {
        "id": "uijc1fqLOJ6S"
      }
    },
    {
      "cell_type": "code",
      "source": [
        "import pandas as pd\n",
        "url='https://github.com/SwathiAenugu/Fundamentals-of-Artificial-Intelligence/blob/main/training.csv'\n",
        "df = pd.read_csv(url, error_bad_lines=False)\n",
        "from google.colab import drive\n",
        "drive.mount('/content/drive')         \n",
        "data_path = \"/content/drive/My Drive/Colab Notebooks/\"\n",
        "\n",
        "with open(data_path + 'tarining.csv', 'w') as f:   \n",
        "  df.to_csv(f)  \n",
        "\n",
        "df = pd.read_csv(data_path +'training.csv')\n",
        "# remove even rows:\n",
        "df = df.iloc[1::2]\n",
        "print(df)\n"
      ],
      "metadata": {
        "colab": {
          "base_uri": "https://localhost:8080/"
        },
        "id": "YdaucJWUOHpm",
        "outputId": "eb928341-5f42-4afe-8b09-b2964ab7755d"
      },
      "execution_count": 93,
      "outputs": [
        {
          "output_type": "stream",
          "name": "stderr",
          "text": [
            "/usr/local/lib/python3.7/dist-packages/IPython/core/interactiveshell.py:2882: FutureWarning: The error_bad_lines argument has been deprecated and will be removed in a future version.\n",
            "\n",
            "\n",
            "  exec(code_obj, self.user_global_ns, self.user_ns)\n",
            "b'Skipping line 28: expected 1 fields, saw 455\\nSkipping line 72: expected 1 fields, saw 2\\nSkipping line 115: expected 1 fields, saw 2\\nSkipping line 171: expected 1 fields, saw 3\\nSkipping line 185: expected 1 fields, saw 6\\nSkipping line 211: expected 1 fields, saw 4\\nSkipping line 216: expected 1 fields, saw 4\\nSkipping line 221: expected 1 fields, saw 4\\nSkipping line 226: expected 1 fields, saw 4\\nSkipping line 231: expected 1 fields, saw 4\\nSkipping line 236: expected 1 fields, saw 4\\nSkipping line 241: expected 1 fields, saw 4\\nSkipping line 246: expected 1 fields, saw 4\\nSkipping line 251: expected 1 fields, saw 4\\nSkipping line 256: expected 1 fields, saw 4\\nSkipping line 261: expected 1 fields, saw 4\\nSkipping line 266: expected 1 fields, saw 4\\nSkipping line 271: expected 1 fields, saw 4\\nSkipping line 282: expected 1 fields, saw 3\\nSkipping line 286: expected 1 fields, saw 3\\nSkipping line 294: expected 1 fields, saw 4\\nSkipping line 299: expected 1 fields, saw 4\\nSkipping line 306: expected 1 fields, saw 4\\nSkipping line 311: expected 1 fields, saw 4\\nSkipping line 316: expected 1 fields, saw 4\\nSkipping line 321: expected 1 fields, saw 4\\nSkipping line 326: expected 1 fields, saw 4\\nSkipping line 331: expected 1 fields, saw 4\\nSkipping line 338: expected 1 fields, saw 4\\nSkipping line 343: expected 1 fields, saw 4\\nSkipping line 348: expected 1 fields, saw 4\\nSkipping line 353: expected 1 fields, saw 4\\nSkipping line 358: expected 1 fields, saw 4\\nSkipping line 369: expected 1 fields, saw 3\\nSkipping line 377: expected 1 fields, saw 4\\nSkipping line 382: expected 1 fields, saw 4\\nSkipping line 387: expected 1 fields, saw 4\\nSkipping line 392: expected 1 fields, saw 4\\nSkipping line 397: expected 1 fields, saw 4\\nSkipping line 422: expected 1 fields, saw 2\\nSkipping line 621: expected 1 fields, saw 6\\nSkipping line 622: expected 1 fields, saw 3\\nSkipping line 629: expected 1 fields, saw 6\\nSkipping line 630: expected 1 fields, saw 3\\nSkipping line 721: expected 1 fields, saw 6\\nSkipping line 730: expected 1 fields, saw 6\\nSkipping line 740: expected 1 fields, saw 6\\nSkipping line 768: expected 1 fields, saw 3\\nSkipping line 780: expected 1 fields, saw 3\\nSkipping line 792: expected 1 fields, saw 3\\nSkipping line 804: expected 1 fields, saw 3\\nSkipping line 816: expected 1 fields, saw 3\\nSkipping line 828: expected 1 fields, saw 3\\nSkipping line 840: expected 1 fields, saw 3\\nSkipping line 851: expected 1 fields, saw 3\\nSkipping line 1103: expected 1 fields, saw 7\\nSkipping line 1145: expected 1 fields, saw 2\\nSkipping line 1210: expected 1 fields, saw 6\\nSkipping line 1220: expected 1 fields, saw 2\\nSkipping line 1250: expected 1 fields, saw 6\\nSkipping line 1260: expected 1 fields, saw 2\\nSkipping line 1262: expected 1 fields, saw 2\\nSkipping line 1304: expected 1 fields, saw 2\\nSkipping line 1529: expected 1 fields, saw 2\\nSkipping line 1537: expected 1 fields, saw 3\\nSkipping line 1538: expected 1 fields, saw 3\\nSkipping line 1539: expected 1 fields, saw 3\\nSkipping line 1540: expected 1 fields, saw 3\\nSkipping line 1541: expected 1 fields, saw 3\\nSkipping line 1542: expected 1 fields, saw 3\\nSkipping line 1543: expected 1 fields, saw 3\\nSkipping line 1544: expected 1 fields, saw 3\\nSkipping line 1545: expected 1 fields, saw 3\\nSkipping line 1546: expected 1 fields, saw 3\\nSkipping line 1547: expected 1 fields, saw 3\\n'\n"
          ]
        },
        {
          "output_type": "stream",
          "name": "stdout",
          "text": [
            "Drive already mounted at /content/drive; to attempt to forcibly remount, call drive.mount(\"/content/drive\", force_remount=True).\n",
            "       X1     X2  Y\n",
            "1  -3.464 -2.110  1\n",
            "3  -2.220 -3.474  1\n",
            "5  -2.010  3.459  1\n",
            "7  -1.416  1.419  0\n",
            "9  -0.190 -4.130  1\n",
            "11  0.030 -2.120  0\n",
            "13  0.060  3.970  1\n",
            "15  0.120 -1.120  0\n",
            "17  1.411  1.419  0\n",
            "19  1.860  3.470  1\n",
            "21  2.110 -3.472  1\n",
            "23  3.464  2.070  1\n"
          ]
        }
      ]
    },
    {
      "cell_type": "markdown",
      "source": [
        "**12.\tSubstitute all elements in diagonals to 0 in a 5x5 dataframe(matrix)**"
      ],
      "metadata": {
        "id": "pOWFmRd-OUty"
      }
    },
    {
      "cell_type": "code",
      "source": [
        "import numpy as np\n",
        "import pandas as pd\n",
        "df = pd.DataFrame(np.random.rand(5,5))\n",
        "print(df)\n",
        "df.values[[np.arange(df.shape[0])]*2] = 0\n",
        "print(df)"
      ],
      "metadata": {
        "colab": {
          "base_uri": "https://localhost:8080/"
        },
        "id": "rBxZA01eOWHz",
        "outputId": "0ab808e0-9b2a-4d54-987b-59b931943034"
      },
      "execution_count": 43,
      "outputs": [
        {
          "output_type": "stream",
          "name": "stdout",
          "text": [
            "          0         1         2         3         4\n",
            "0  0.021159  0.017140  0.318727  0.374085  0.591218\n",
            "1  0.256270  0.113970  0.503156  0.578496  0.658093\n",
            "2  0.188283  0.376502  0.509477  0.008351  0.504100\n",
            "3  0.304544  0.923557  0.778182  0.237346  0.801965\n",
            "4  0.307630  0.077635  0.221244  0.023911  0.938765\n",
            "          0         1         2         3         4\n",
            "0  0.000000  0.017140  0.318727  0.374085  0.591218\n",
            "1  0.256270  0.000000  0.503156  0.578496  0.658093\n",
            "2  0.188283  0.376502  0.000000  0.008351  0.504100\n",
            "3  0.304544  0.923557  0.778182  0.000000  0.801965\n",
            "4  0.307630  0.077635  0.221244  0.023911  0.000000\n"
          ]
        },
        {
          "output_type": "stream",
          "name": "stderr",
          "text": [
            "/usr/local/lib/python3.7/dist-packages/ipykernel_launcher.py:5: FutureWarning: Using a non-tuple sequence for multidimensional indexing is deprecated; use `arr[tuple(seq)]` instead of `arr[seq]`. In the future this will be interpreted as an array index, `arr[np.array(seq)]`, which will result either in an error or a different result.\n",
            "  \"\"\"\n"
          ]
        }
      ]
    },
    {
      "cell_type": "markdown",
      "source": [
        "**13.\tSeparate a dataframe 80% to trainingset and 20% as testset**"
      ],
      "metadata": {
        "id": "04nxhKwdOm0u"
      }
    },
    {
      "cell_type": "code",
      "source": [
        "import pandas as pd\n",
        "import numpy as np\n",
        "technologies= {\n",
        "    'Courses':[\"Spark\",\"PySpark\",\"Spark\",\"Python\",\"PySpark\"],\n",
        "    'Fee' :[22000,25000,23000,24000,26000],\n",
        "    'Duration':['30days','50days','30days', None,np.nan]\n",
        "          }\n",
        "df = pd.DataFrame(technologies)\n",
        "print('DataFrame:\\n',df)\n",
        "\n",
        "train=df.sample(frac=0.8,random_state=200)\n",
        "print('\\n Training set:\\n',train)\n",
        "test=df.drop(train.index)\n",
        "print('\\nTesting set:\\n',test)"
      ],
      "metadata": {
        "colab": {
          "base_uri": "https://localhost:8080/"
        },
        "id": "pYLTvkXhOoru",
        "outputId": "b8bc0f97-aa7f-4c02-b121-feb38bb517d0"
      },
      "execution_count": 104,
      "outputs": [
        {
          "output_type": "stream",
          "name": "stdout",
          "text": [
            "DataFrame:\n",
            "    Courses    Fee Duration\n",
            "0    Spark  22000   30days\n",
            "1  PySpark  25000   50days\n",
            "2    Spark  23000   30days\n",
            "3   Python  24000     None\n",
            "4  PySpark  26000      NaN\n",
            "\n",
            " Training set:\n",
            "    Courses    Fee Duration\n",
            "3   Python  24000     None\n",
            "4  PySpark  26000      NaN\n",
            "0    Spark  22000   30days\n",
            "1  PySpark  25000   50days\n",
            "\n",
            "Testing set:\n",
            "   Courses    Fee Duration\n",
            "2   Spark  23000   30days\n"
          ]
        }
      ]
    }
  ]
}